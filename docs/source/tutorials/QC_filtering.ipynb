{
 "cells": [
  {
   "cell_type": "markdown",
   "metadata": {},
   "source": [
    "# Quality Control and Filtering for Raw Data"
   ]
  },
  {
   "cell_type": "code",
   "execution_count": 2,
   "metadata": {},
   "outputs": [],
   "source": [
    "import os\n",
    "import importlib\n",
    "import logging\n",
    "import pandas as pd\n",
    "import scanpy as sc\n",
    "import cv2\n",
    "import numpy as np\n",
    "from typing import Tuple, List, Dict, Optional, Union\n",
    "import inspect\n",
    "import sys\n",
    "import spatioloji as sj"
   ]
  },
  {
   "cell_type": "markdown",
   "metadata": {},
   "source": [
    "## Prepare original data\n",
    "     - Set up directory paths for original data/saved data\n",
    "     - Load original data\n",
    "     - Check rows/columns of all tables with necessary modifications\n",
    "     - Save data"
   ]
  },
  {
   "cell_type": "code",
   "execution_count": null,
   "metadata": {},
   "outputs": [],
   "source": [
    "# load original data\n",
    "data_read = './test_data/' # for raw data \n",
    "data_save = './test_data/' # for processed data or intermediate result\n",
    "analysis_save = './test_analysis/' # for plots\n",
    "image_dir = './test_data/image/'\n",
    "\n",
    "# Load expression matrix and cell metadata\n",
    "expr_matrix = pd.read_csv(data_read+'Run5452_S2_exprMat_file.csv')\n",
    "cell_metadata = pd.read_csv(data_read+'Run5452_S2_metadata_file.csv')\n",
    "\n",
    "# Create unique cell identifiers by combining FOV and cell ID\n",
    "expr_matrix['fov'] = expr_matrix['fov'].astype(str)\n",
    "expr_matrix['cell'] = expr_matrix['fov'].astype(str)+'_'+expr_matrix['cell_ID'].astype(str)\n",
    "expr_matrix.index = expr_matrix.cell\n",
    "cell_metadata['fov'] = cell_metadata['fov'].astype(str)\n",
    "cell_metadata['cell'] = cell_metadata['fov'].astype(str)+'_'+cell_metadata['cell_ID'].astype(str)\n",
    "cell_metadata.index = cell_metadata.cell\n",
    "\n",
    "# Filter to keep only cells that exist in both expression and metadata\n",
    "common_cells = expr_matrix.index.intersection(cell_metadata.index)\n",
    "expr_matrix = expr_matrix.loc[common_cells]\n",
    "cell_metadata = cell_metadata.loc[common_cells]\n",
    "\n",
    "# Load spatial information (FOV positions and cell polygons)\n",
    "fov_positions_orig = pd.read_csv(data_read+'Run5452_S2_fov_positions_file.csv')\n",
    "fov_positions_orig['fov'] = fov_positions_orig['fov'].astype(str)\n",
    "polygon_file_orig = pd.read_csv(data_read+'Run5452_S2-polygons.csv')\n",
    "polygon_file_orig['fov'] = polygon_file_orig['fov'].astype(str)\n",
    "polygon_file_orig['cell'] = polygon_file_orig['fov'].astype(str)+'_'+polygon_file_orig['cell_ID'].astype(str)\n"
   ]
  },
  {
   "cell_type": "markdown",
   "metadata": {},
   "source": [
    "## Instantiation of Spatioloji_qc object\n",
    "    - Set up output folder\n",
    "    - Read expr matrix and matched cell metadata\n",
    "    - QC pipeline \n",
    "    - Save data "
   ]
  },
  {
   "cell_type": "code",
   "execution_count": null,
   "metadata": {},
   "outputs": [],
   "source": [
    "# Create Spatioloji_qc object for filtering and QC\n",
    "sp_ji_qc = sj.data.spatioloji_qc(output_dir=analysis_save)\n",
    "\n",
    "# # Or directly set data\n",
    "sp_ji_qc.expr_matrix = expr_matrix\n",
    "sp_ji_qc.cell_metadata = cell_metadata\n",
    "\n",
    "# Run QC pipeline\n",
    "filtered_cells, filtered_genes = sp_ji_qc.run_qc_pipeline()\n",
    "fov_positions = fov_positions_orig[fov_positions_orig['fov'].isin(filtered_cells.fov.tolist())]\n",
    "polygon_file = polygon_file_orig[polygon_file_orig['cell'].isin(filtered_cells.index.tolist())]\n",
    "cell_metadata = cell_metadata[cell_metadata['cell'].isin(filtered_cells.index.tolist())]\n",
    "cell_metadata.index.name = None\n",
    "\n",
    "# save filtered files\n",
    "fov_positions.to_csv(data_save+'filtered_fov_positions.csv') # under normal circumstance, you do not need to save it because no fovs filtered out\n",
    "polygon_file.to_csv(data_save+'filtered_polygons.csv')\n",
    "cell_metadata.to_csv(data_save+'filtered_metadata_file.csv')\n",
    "filtered_genes.to_csv(data_save+'filtered_exprMat_file.csv')\n",
    "cell_metadata[['CenterX_local_px', 'CenterY_local_px']].to_csv(data_save+'filtered_coordinates.csv')\n",
    "\n"
   ]
  }
 ],
 "metadata": {
  "kernelspec": {
   "display_name": "test",
   "language": "python",
   "name": "python3"
  },
  "language_info": {
   "codemirror_mode": {
    "name": "ipython",
    "version": 3
   },
   "file_extension": ".py",
   "mimetype": "text/x-python",
   "name": "python",
   "nbconvert_exporter": "python",
   "pygments_lexer": "ipython3",
   "version": "3.12.9"
  }
 },
 "nbformat": 4,
 "nbformat_minor": 2
}
